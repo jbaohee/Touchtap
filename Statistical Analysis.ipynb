{
 "cells": [
  {
   "cell_type": "code",
   "execution_count": 74,
   "metadata": {},
   "outputs": [],
   "source": [
    "import seaborn as sns\n",
    "from matplotlib import pyplot as plt \n",
    "import numpy as np\n",
    "import pandas as pd\n",
    "import statistics as stat\n",
    "from scipy.stats import iqr, shapiro, normaltest, mannwhitneyu"
   ]
  },
  {
   "cell_type": "code",
   "execution_count": 15,
   "metadata": {},
   "outputs": [
    {
     "data": {
      "text/html": [
       "<div>\n",
       "<style scoped>\n",
       "    .dataframe tbody tr th:only-of-type {\n",
       "        vertical-align: middle;\n",
       "    }\n",
       "\n",
       "    .dataframe tbody tr th {\n",
       "        vertical-align: top;\n",
       "    }\n",
       "\n",
       "    .dataframe thead th {\n",
       "        text-align: right;\n",
       "    }\n",
       "</style>\n",
       "<table border=\"1\" class=\"dataframe\">\n",
       "  <thead>\n",
       "    <tr style=\"text-align: right;\">\n",
       "      <th></th>\n",
       "      <th>gender</th>\n",
       "      <th>age</th>\n",
       "      <th>education</th>\n",
       "      <th>occupation</th>\n",
       "      <th>family_history</th>\n",
       "    </tr>\n",
       "    <tr>\n",
       "      <th>subject_no</th>\n",
       "      <th></th>\n",
       "      <th></th>\n",
       "      <th></th>\n",
       "      <th></th>\n",
       "      <th></th>\n",
       "    </tr>\n",
       "  </thead>\n",
       "  <tbody>\n",
       "    <tr>\n",
       "      <th>1</th>\n",
       "      <td>F</td>\n",
       "      <td>23</td>\n",
       "      <td>H</td>\n",
       "      <td>NPS</td>\n",
       "      <td>Not to the extent of knowledge</td>\n",
       "    </tr>\n",
       "    <tr>\n",
       "      <th>2</th>\n",
       "      <td>F</td>\n",
       "      <td>21</td>\n",
       "      <td>H</td>\n",
       "      <td>NPS</td>\n",
       "      <td>Not to the extent of knowledge</td>\n",
       "    </tr>\n",
       "    <tr>\n",
       "      <th>3</th>\n",
       "      <td>F</td>\n",
       "      <td>33</td>\n",
       "      <td>H</td>\n",
       "      <td>P</td>\n",
       "      <td>Grandmother has late onset parkinsons</td>\n",
       "    </tr>\n",
       "    <tr>\n",
       "      <th>4</th>\n",
       "      <td>F</td>\n",
       "      <td>24</td>\n",
       "      <td>H</td>\n",
       "      <td>NPS</td>\n",
       "      <td>Grandmother has alzheimers</td>\n",
       "    </tr>\n",
       "    <tr>\n",
       "      <th>5</th>\n",
       "      <td>M</td>\n",
       "      <td>25</td>\n",
       "      <td>H</td>\n",
       "      <td>NPS</td>\n",
       "      <td>Not to the extent of knowledge</td>\n",
       "    </tr>\n",
       "  </tbody>\n",
       "</table>\n",
       "</div>"
      ],
      "text/plain": [
       "           gender  age  education occupation  \\\n",
       "subject_no                                     \n",
       "1               F    23         H        NPS   \n",
       "2               F    21         H        NPS   \n",
       "3               F    33         H          P   \n",
       "4               F    24         H        NPS   \n",
       "5               M    25         H        NPS   \n",
       "\n",
       "                                   family_history  \n",
       "subject_no                                         \n",
       "1                  Not to the extent of knowledge  \n",
       "2                  Not to the extent of knowledge  \n",
       "3           Grandmother has late onset parkinsons  \n",
       "4                     Grandmother has alzheimers   \n",
       "5                  Not to the extent of knowledge  "
      ]
     },
     "execution_count": 15,
     "metadata": {},
     "output_type": "execute_result"
    }
   ],
   "source": [
    "path = 'filtered data/'\n",
    "\n",
    "df_demo = pd.read_csv(path + \"control_demographic_data.csv\")\n",
    "df_demo.set_index(\"subject_no\", inplace=True)\n",
    "df_demo.head()"
   ]
  },
  {
   "cell_type": "code",
   "execution_count": 23,
   "metadata": {},
   "outputs": [],
   "source": [
    "mean_at20 = []\n",
    "std_at20 = []\n",
    "median_at20 = []\n",
    "iqr_at20 = []\n",
    "mean_is20 = []\n",
    "std_is20 = []\n",
    "median_is20 = []\n",
    "iqr_is20 = []\n",
    "ks20 = []\n",
    "\n",
    "for i in range (1,31):\n",
    "    df = pd.read_csv(path + 's' + str(i) + '_r.csv')\n",
    "    at20_column = \"at20_s\" + str(i) + \"_r\"\n",
    "    is20_column = \"is20_s\" + str(i) + \"_r\"\n",
    "\n",
    "    mean_at20.append(df[at20_column].mean())\n",
    "    std_at20.append(df[at20_column].std())\n",
    "    median_at20.append(df[at20_column].median())\n",
    "    iqr_at20.append(iqr(df[at20_column]))\n",
    "    \n",
    "    mean_is20.append(df[is20_column].mean())\n",
    "    std_is20.append(df[is20_column].std())\n",
    "    median_is20.append(df[is20_column].median())\n",
    "    iqr_is20.append(iqr(df[is20_column]))\n",
    "\n",
    "    ks20.append(len(df))\n"
   ]
  },
  {
   "cell_type": "code",
   "execution_count": 62,
   "metadata": {},
   "outputs": [
    {
     "data": {
      "text/html": [
       "<div>\n",
       "<style scoped>\n",
       "    .dataframe tbody tr th:only-of-type {\n",
       "        vertical-align: middle;\n",
       "    }\n",
       "\n",
       "    .dataframe tbody tr th {\n",
       "        vertical-align: top;\n",
       "    }\n",
       "\n",
       "    .dataframe thead th {\n",
       "        text-align: right;\n",
       "    }\n",
       "</style>\n",
       "<table border=\"1\" class=\"dataframe\">\n",
       "  <thead>\n",
       "    <tr style=\"text-align: right;\">\n",
       "      <th></th>\n",
       "      <th>mean_at20</th>\n",
       "      <th>std_at20</th>\n",
       "      <th>median_at20</th>\n",
       "      <th>iqr_at20</th>\n",
       "      <th>mean_is20</th>\n",
       "      <th>std_is20</th>\n",
       "      <th>median_is20</th>\n",
       "      <th>iqr_is20</th>\n",
       "      <th>ks20</th>\n",
       "      <th>gender</th>\n",
       "      <th>age</th>\n",
       "    </tr>\n",
       "    <tr>\n",
       "      <th>subject_no</th>\n",
       "      <th></th>\n",
       "      <th></th>\n",
       "      <th></th>\n",
       "      <th></th>\n",
       "      <th></th>\n",
       "      <th></th>\n",
       "      <th></th>\n",
       "      <th></th>\n",
       "      <th></th>\n",
       "      <th></th>\n",
       "      <th></th>\n",
       "    </tr>\n",
       "  </thead>\n",
       "  <tbody>\n",
       "    <tr>\n",
       "      <th>26</th>\n",
       "      <td>43.669014</td>\n",
       "      <td>16.688095</td>\n",
       "      <td>45.0</td>\n",
       "      <td>17.00</td>\n",
       "      <td>119.704225</td>\n",
       "      <td>17.509385</td>\n",
       "      <td>118.5</td>\n",
       "      <td>16.75</td>\n",
       "      <td>142</td>\n",
       "      <td>M</td>\n",
       "      <td>40</td>\n",
       "    </tr>\n",
       "    <tr>\n",
       "      <th>27</th>\n",
       "      <td>63.493151</td>\n",
       "      <td>15.699878</td>\n",
       "      <td>63.0</td>\n",
       "      <td>17.75</td>\n",
       "      <td>102.938356</td>\n",
       "      <td>19.493314</td>\n",
       "      <td>101.0</td>\n",
       "      <td>17.00</td>\n",
       "      <td>146</td>\n",
       "      <td>F</td>\n",
       "      <td>34</td>\n",
       "    </tr>\n",
       "    <tr>\n",
       "      <th>28</th>\n",
       "      <td>70.696970</td>\n",
       "      <td>12.495458</td>\n",
       "      <td>70.5</td>\n",
       "      <td>16.25</td>\n",
       "      <td>100.583333</td>\n",
       "      <td>12.638268</td>\n",
       "      <td>102.0</td>\n",
       "      <td>17.00</td>\n",
       "      <td>132</td>\n",
       "      <td>M</td>\n",
       "      <td>22</td>\n",
       "    </tr>\n",
       "    <tr>\n",
       "      <th>29</th>\n",
       "      <td>81.220183</td>\n",
       "      <td>23.713708</td>\n",
       "      <td>77.0</td>\n",
       "      <td>25.00</td>\n",
       "      <td>123.724771</td>\n",
       "      <td>27.754169</td>\n",
       "      <td>120.0</td>\n",
       "      <td>23.00</td>\n",
       "      <td>109</td>\n",
       "      <td>M</td>\n",
       "      <td>32</td>\n",
       "    </tr>\n",
       "    <tr>\n",
       "      <th>30</th>\n",
       "      <td>85.018868</td>\n",
       "      <td>16.432825</td>\n",
       "      <td>83.0</td>\n",
       "      <td>19.00</td>\n",
       "      <td>120.216981</td>\n",
       "      <td>14.969814</td>\n",
       "      <td>119.0</td>\n",
       "      <td>18.75</td>\n",
       "      <td>106</td>\n",
       "      <td>M</td>\n",
       "      <td>45</td>\n",
       "    </tr>\n",
       "  </tbody>\n",
       "</table>\n",
       "</div>"
      ],
      "text/plain": [
       "            mean_at20   std_at20  median_at20  iqr_at20   mean_is20  \\\n",
       "subject_no                                                            \n",
       "26          43.669014  16.688095         45.0     17.00  119.704225   \n",
       "27          63.493151  15.699878         63.0     17.75  102.938356   \n",
       "28          70.696970  12.495458         70.5     16.25  100.583333   \n",
       "29          81.220183  23.713708         77.0     25.00  123.724771   \n",
       "30          85.018868  16.432825         83.0     19.00  120.216981   \n",
       "\n",
       "             std_is20  median_is20  iqr_is20  ks20 gender  age  \n",
       "subject_no                                                      \n",
       "26          17.509385        118.5     16.75   142      M   40  \n",
       "27          19.493314        101.0     17.00   146      F   34  \n",
       "28          12.638268        102.0     17.00   132      M   22  \n",
       "29          27.754169        120.0     23.00   109      M   32  \n",
       "30          14.969814        119.0     18.75   106      M   45  "
      ]
     },
     "execution_count": 62,
     "metadata": {},
     "output_type": "execute_result"
    }
   ],
   "source": [
    "dataframe = {'mean_at20': mean_at20, \n",
    "             'std_at20': std_at20,\n",
    "             'median_at20': median_at20,\n",
    "             'iqr_at20': iqr_at20,\n",
    "             'mean_is20': mean_is20,\n",
    "             'std_is20': std_is20,\n",
    "             'median_is20': median_is20,\n",
    "             'iqr_is20': iqr_is20,\n",
    "             'ks20': ks20,\n",
    "             'gender': df_demo[\"gender\"],\n",
    "             'age': df_demo[\"age \"]\n",
    "             }\n",
    "df = pd.DataFrame(dataframe)\n",
    "df.tail()"
   ]
  },
  {
   "cell_type": "markdown",
   "metadata": {},
   "source": [
    "## Playing around with the data"
   ]
  },
  {
   "cell_type": "code",
   "execution_count": null,
   "metadata": {},
   "outputs": [
    {
     "data": {
      "image/png": "[encoded data removed]",
      "text/plain": [
       "<Figure size 600x600 with 1 Axes>"
      ]
     },
     "metadata": {},
     "output_type": "display_data"
    }
   ],
   "source": [
    "import scipy.stats as stats\n",
    "\n",
    "plt.figure(figsize=(6,6))\n",
    "stats.probplot(df[\"mean_at20\"], dist= \"norm\", plot = plt)\n",
    "plt.show()"
   ]
  },
  {
   "cell_type": "code",
   "execution_count": 58,
   "metadata": {},
   "outputs": [
    {
     "data": {
      "text/plain": [
       "array([[<Axes: title={'center': 'at20_s15_r'}>,\n",
       "        <Axes: title={'center': 'is20_s15_r'}>]], dtype=object)"
      ]
     },
     "execution_count": 58,
     "metadata": {},
     "output_type": "execute_result"
    },
    {
     "data": {
      "image/png": "[encoded data removed]",
      "text/plain": [
       "<Figure size 640x480 with 2 Axes>"
      ]
     },
     "metadata": {},
     "output_type": "display_data"
    }
   ],
   "source": [
    "test_df = pd.read_csv(path + \"s15_r.csv\")\n",
    "test_df.hist()"
   ]
  },
  {
   "cell_type": "code",
   "execution_count": 61,
   "metadata": {},
   "outputs": [
    {
     "data": {
      "text/plain": [
       "np.float64(0.02062337051870624)"
      ]
     },
     "execution_count": 61,
     "metadata": {},
     "output_type": "execute_result"
    }
   ],
   "source": [
    "stat, p_value = normaltest(test_df[\"at20_s15_r\"])\n",
    "p_value"
   ]
  },
  {
   "cell_type": "code",
   "execution_count": 66,
   "metadata": {},
   "outputs": [
    {
     "data": {
      "text/plain": [
       "np.float64(23.32825601278695)"
      ]
     },
     "execution_count": 66,
     "metadata": {},
     "output_type": "execute_result"
    }
   ],
   "source": [
    "df[\"mean_at20\"].std()"
   ]
  },
  {
   "cell_type": "code",
   "execution_count": 77,
   "metadata": {},
   "outputs": [
    {
     "data": {
      "image/png": "[encoded data removed]",
      "text/plain": [
       "<Figure size 400x400 with 1 Axes>"
      ]
     },
     "metadata": {},
     "output_type": "display_data"
    }
   ],
   "source": [
    "# Reshape the DataFrame for plotting\n",
    "df_melted = df[['mean_at20', 'mean_is20']].melt(var_name='Category', value_name='Values')\n",
    "\n",
    "# Group by 'Category' to calculate the mean and 95% CI\n",
    "summary_stats = df_melted.groupby('Category')['Values'].agg(['mean', 'count', 'std']).reset_index()\n",
    "summary_stats['ci_lower'] = summary_stats['mean'] - 1.96 * (summary_stats['std'] / np.sqrt(summary_stats['count']))\n",
    "summary_stats['ci_upper'] = summary_stats['mean'] + 1.96 * (summary_stats['std'] / np.sqrt(summary_stats['count']))\n",
    "\n",
    "# Plot\n",
    "plt.figure(figsize=(4, 4))\n",
    "\n",
    "# Bar plot with error bars for 95% CI\n",
    "sns.barplot(\n",
    "    x='Category', y='mean', data=summary_stats,\n",
    "    yerr=summary_stats['ci_upper'] - summary_stats['mean'],\n",
    "    color='skyblue', edgecolor='black'\n",
    ")\n",
    "\n",
    "# Overlay scatter points\n",
    "sns.stripplot(\n",
    "    x='Category', y='Values', data=df_melted,\n",
    "    color='red', jitter=True, size=6, edgecolor=\"black\"\n",
    ")\n",
    "\n",
    "# Add labels and title\n",
    "plt.xlabel(\"Category\", fontsize=12)\n",
    "plt.ylabel(\"Values\", fontsize=12)\n",
    "plt.title(\"Bar Plot with Scatter Points and 95% CI\", fontsize=14)\n",
    "plt.tight_layout()\n",
    "\n",
    "plt.show()"
   ]
  },
  {
   "cell_type": "code",
   "execution_count": 72,
   "metadata": {},
   "outputs": [
    {
     "data": {
      "text/html": [
       "<div>\n",
       "<style scoped>\n",
       "    .dataframe tbody tr th:only-of-type {\n",
       "        vertical-align: middle;\n",
       "    }\n",
       "\n",
       "    .dataframe tbody tr th {\n",
       "        vertical-align: top;\n",
       "    }\n",
       "\n",
       "    .dataframe thead th {\n",
       "        text-align: right;\n",
       "    }\n",
       "</style>\n",
       "<table border=\"1\" class=\"dataframe\">\n",
       "  <thead>\n",
       "    <tr style=\"text-align: right;\">\n",
       "      <th></th>\n",
       "      <th>Unnamed: 0</th>\n",
       "      <th>p_at20</th>\n",
       "      <th>p_is20</th>\n",
       "    </tr>\n",
       "  </thead>\n",
       "  <tbody>\n",
       "    <tr>\n",
       "      <th>0</th>\n",
       "      <td>0</td>\n",
       "      <td>117.424097</td>\n",
       "      <td>99.465062</td>\n",
       "    </tr>\n",
       "    <tr>\n",
       "      <th>1</th>\n",
       "      <td>1</td>\n",
       "      <td>133.624544</td>\n",
       "      <td>155.081955</td>\n",
       "    </tr>\n",
       "    <tr>\n",
       "      <th>2</th>\n",
       "      <td>2</td>\n",
       "      <td>130.547623</td>\n",
       "      <td>118.041866</td>\n",
       "    </tr>\n",
       "    <tr>\n",
       "      <th>3</th>\n",
       "      <td>3</td>\n",
       "      <td>143.988372</td>\n",
       "      <td>72.829668</td>\n",
       "    </tr>\n",
       "    <tr>\n",
       "      <th>4</th>\n",
       "      <td>4</td>\n",
       "      <td>116.760344</td>\n",
       "      <td>141.780913</td>\n",
       "    </tr>\n",
       "  </tbody>\n",
       "</table>\n",
       "</div>"
      ],
      "text/plain": [
       "   Unnamed: 0      p_at20      p_is20\n",
       "0           0  117.424097   99.465062\n",
       "1           1  133.624544  155.081955\n",
       "2           2  130.547623  118.041866\n",
       "3           3  143.988372   72.829668\n",
       "4           4  116.760344  141.780913"
      ]
     },
     "execution_count": 72,
     "metadata": {},
     "output_type": "execute_result"
    }
   ],
   "source": [
    "p_df = pd.read_csv(\"filtered data/pt_r.csv\")\n",
    "p_df.head()"
   ]
  },
  {
   "cell_type": "code",
   "execution_count": 76,
   "metadata": {},
   "outputs": [
    {
     "data": {
      "text/plain": [
       "np.float64(3.52539509013505e-05)"
      ]
     },
     "execution_count": 76,
     "metadata": {},
     "output_type": "execute_result"
    }
   ],
   "source": [
    "stat, p_value = mannwhitneyu(df[\"mean_at20\"], p_df[\"p_at20\"])\n",
    "p_value"
   ]
  }
 ],
 "metadata": {
  "kernelspec": {
   "display_name": "Python 3",
   "language": "python",
   "name": "python3"
  },
  "language_info": {
   "codemirror_mode": {
    "name": "ipython",
    "version": 3
   },
   "file_extension": ".py",
   "mimetype": "text/x-python",
   "name": "python",
   "nbconvert_exporter": "python",
   "pygments_lexer": "ipython3",
   "version": "3.12.3"
  }
 },
 "nbformat": 4,
 "nbformat_minor": 2
}
